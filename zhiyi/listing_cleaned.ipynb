{
 "cells": [
  {
   "cell_type": "code",
   "execution_count": 1,
   "metadata": {},
   "outputs": [],
   "source": [
    "import pandas as pd\n",
    "import numpy as np"
   ]
  },
  {
   "cell_type": "code",
   "execution_count": 2,
   "metadata": {},
   "outputs": [],
   "source": [
    "#import datasets\n",
    "file = 'datasets/listings.csv'"
   ]
  },
  {
   "cell_type": "code",
   "execution_count": 3,
   "metadata": {},
   "outputs": [],
   "source": [
    "#read file from pandas\n",
    "data = pd.read_csv(file)"
   ]
  },
  {
   "cell_type": "code",
   "execution_count": 4,
   "metadata": {},
   "outputs": [
    {
     "data": {
      "text/html": [
       "<div>\n",
       "<style scoped>\n",
       "    .dataframe tbody tr th:only-of-type {\n",
       "        vertical-align: middle;\n",
       "    }\n",
       "\n",
       "    .dataframe tbody tr th {\n",
       "        vertical-align: top;\n",
       "    }\n",
       "\n",
       "    .dataframe thead th {\n",
       "        text-align: right;\n",
       "    }\n",
       "</style>\n",
       "<table border=\"1\" class=\"dataframe\">\n",
       "  <thead>\n",
       "    <tr style=\"text-align: right;\">\n",
       "      <th></th>\n",
       "      <th>id</th>\n",
       "      <th>name</th>\n",
       "      <th>host_id</th>\n",
       "      <th>host_name</th>\n",
       "      <th>neighbourhood_group</th>\n",
       "      <th>neighbourhood</th>\n",
       "      <th>latitude</th>\n",
       "      <th>longitude</th>\n",
       "      <th>room_type</th>\n",
       "      <th>price</th>\n",
       "      <th>minimum_nights</th>\n",
       "      <th>number_of_reviews</th>\n",
       "      <th>last_review</th>\n",
       "      <th>reviews_per_month</th>\n",
       "      <th>calculated_host_listings_count</th>\n",
       "      <th>availability_365</th>\n",
       "    </tr>\n",
       "  </thead>\n",
       "  <tbody>\n",
       "    <tr>\n",
       "      <th>0</th>\n",
       "      <td>5570</td>\n",
       "      <td>Ocean front condo on the sand</td>\n",
       "      <td>8435</td>\n",
       "      <td>Jef Karchin</td>\n",
       "      <td>NaN</td>\n",
       "      <td>Mission Bay</td>\n",
       "      <td>32.78430</td>\n",
       "      <td>-117.25258</td>\n",
       "      <td>Entire home/apt</td>\n",
       "      <td>2050</td>\n",
       "      <td>3</td>\n",
       "      <td>0</td>\n",
       "      <td>NaN</td>\n",
       "      <td>NaN</td>\n",
       "      <td>3</td>\n",
       "      <td>148</td>\n",
       "    </tr>\n",
       "    <tr>\n",
       "      <th>1</th>\n",
       "      <td>29967</td>\n",
       "      <td>Great home, 10 min walk to Beach</td>\n",
       "      <td>129123</td>\n",
       "      <td>Michael</td>\n",
       "      <td>NaN</td>\n",
       "      <td>Pacific Beach</td>\n",
       "      <td>32.80724</td>\n",
       "      <td>-117.25630</td>\n",
       "      <td>Entire home/apt</td>\n",
       "      <td>225</td>\n",
       "      <td>4</td>\n",
       "      <td>60</td>\n",
       "      <td>2018-08-09</td>\n",
       "      <td>0.49</td>\n",
       "      <td>5</td>\n",
       "      <td>325</td>\n",
       "    </tr>\n",
       "    <tr>\n",
       "      <th>2</th>\n",
       "      <td>38245</td>\n",
       "      <td>Point Loma: Den downstairs</td>\n",
       "      <td>164137</td>\n",
       "      <td>Melinda</td>\n",
       "      <td>NaN</td>\n",
       "      <td>Roseville</td>\n",
       "      <td>32.74202</td>\n",
       "      <td>-117.21870</td>\n",
       "      <td>Private room</td>\n",
       "      <td>75</td>\n",
       "      <td>1</td>\n",
       "      <td>143</td>\n",
       "      <td>2019-10-20</td>\n",
       "      <td>1.19</td>\n",
       "      <td>3</td>\n",
       "      <td>359</td>\n",
       "    </tr>\n",
       "    <tr>\n",
       "      <th>3</th>\n",
       "      <td>39516</td>\n",
       "      <td>Art Studio Retreat/Rustic Cabin</td>\n",
       "      <td>169649</td>\n",
       "      <td>Chris  And Jean</td>\n",
       "      <td>NaN</td>\n",
       "      <td>North Hills</td>\n",
       "      <td>32.73188</td>\n",
       "      <td>-117.11918</td>\n",
       "      <td>Entire home/apt</td>\n",
       "      <td>74</td>\n",
       "      <td>3</td>\n",
       "      <td>400</td>\n",
       "      <td>2020-03-16</td>\n",
       "      <td>3.28</td>\n",
       "      <td>1</td>\n",
       "      <td>205</td>\n",
       "    </tr>\n",
       "    <tr>\n",
       "      <th>4</th>\n",
       "      <td>54001</td>\n",
       "      <td>La Jolla 2 Bdr Cottage: 1 Qn; 2Twns, Blks 2 Ocn</td>\n",
       "      <td>252692</td>\n",
       "      <td>Marsha</td>\n",
       "      <td>NaN</td>\n",
       "      <td>La Jolla</td>\n",
       "      <td>32.81301</td>\n",
       "      <td>-117.26856</td>\n",
       "      <td>Entire home/apt</td>\n",
       "      <td>80</td>\n",
       "      <td>3</td>\n",
       "      <td>223</td>\n",
       "      <td>2020-07-02</td>\n",
       "      <td>1.92</td>\n",
       "      <td>2</td>\n",
       "      <td>274</td>\n",
       "    </tr>\n",
       "  </tbody>\n",
       "</table>\n",
       "</div>"
      ],
      "text/plain": [
       "      id                                             name  host_id  \\\n",
       "0   5570                    Ocean front condo on the sand     8435   \n",
       "1  29967                 Great home, 10 min walk to Beach   129123   \n",
       "2  38245                       Point Loma: Den downstairs   164137   \n",
       "3  39516                  Art Studio Retreat/Rustic Cabin   169649   \n",
       "4  54001  La Jolla 2 Bdr Cottage: 1 Qn; 2Twns, Blks 2 Ocn   252692   \n",
       "\n",
       "         host_name  neighbourhood_group  neighbourhood  latitude  longitude  \\\n",
       "0      Jef Karchin                  NaN    Mission Bay  32.78430 -117.25258   \n",
       "1          Michael                  NaN  Pacific Beach  32.80724 -117.25630   \n",
       "2          Melinda                  NaN      Roseville  32.74202 -117.21870   \n",
       "3  Chris  And Jean                  NaN    North Hills  32.73188 -117.11918   \n",
       "4           Marsha                  NaN       La Jolla  32.81301 -117.26856   \n",
       "\n",
       "         room_type  price  minimum_nights  number_of_reviews last_review  \\\n",
       "0  Entire home/apt   2050               3                  0         NaN   \n",
       "1  Entire home/apt    225               4                 60  2018-08-09   \n",
       "2     Private room     75               1                143  2019-10-20   \n",
       "3  Entire home/apt     74               3                400  2020-03-16   \n",
       "4  Entire home/apt     80               3                223  2020-07-02   \n",
       "\n",
       "   reviews_per_month  calculated_host_listings_count  availability_365  \n",
       "0                NaN                               3               148  \n",
       "1               0.49                               5               325  \n",
       "2               1.19                               3               359  \n",
       "3               3.28                               1               205  \n",
       "4               1.92                               2               274  "
      ]
     },
     "execution_count": 4,
     "metadata": {},
     "output_type": "execute_result"
    }
   ],
   "source": [
    "#look up the orginal columns\n",
    "data.head()"
   ]
  },
  {
   "cell_type": "code",
   "execution_count": 6,
   "metadata": {},
   "outputs": [],
   "source": [
    "#keep the intended columns\n",
    "data = data[['id','name','neighbourhood','latitude','longitude','price']]"
   ]
  },
  {
   "cell_type": "code",
   "execution_count": 7,
   "metadata": {},
   "outputs": [
    {
     "data": {
      "text/html": [
       "<div>\n",
       "<style scoped>\n",
       "    .dataframe tbody tr th:only-of-type {\n",
       "        vertical-align: middle;\n",
       "    }\n",
       "\n",
       "    .dataframe tbody tr th {\n",
       "        vertical-align: top;\n",
       "    }\n",
       "\n",
       "    .dataframe thead th {\n",
       "        text-align: right;\n",
       "    }\n",
       "</style>\n",
       "<table border=\"1\" class=\"dataframe\">\n",
       "  <thead>\n",
       "    <tr style=\"text-align: right;\">\n",
       "      <th></th>\n",
       "      <th>id</th>\n",
       "      <th>name</th>\n",
       "      <th>neighbourhood</th>\n",
       "      <th>latitude</th>\n",
       "      <th>longitude</th>\n",
       "      <th>price</th>\n",
       "    </tr>\n",
       "  </thead>\n",
       "  <tbody>\n",
       "    <tr>\n",
       "      <th>0</th>\n",
       "      <td>5570</td>\n",
       "      <td>Ocean front condo on the sand</td>\n",
       "      <td>Mission Bay</td>\n",
       "      <td>32.78430</td>\n",
       "      <td>-117.25258</td>\n",
       "      <td>2050</td>\n",
       "    </tr>\n",
       "    <tr>\n",
       "      <th>1</th>\n",
       "      <td>29967</td>\n",
       "      <td>Great home, 10 min walk to Beach</td>\n",
       "      <td>Pacific Beach</td>\n",
       "      <td>32.80724</td>\n",
       "      <td>-117.25630</td>\n",
       "      <td>225</td>\n",
       "    </tr>\n",
       "    <tr>\n",
       "      <th>2</th>\n",
       "      <td>38245</td>\n",
       "      <td>Point Loma: Den downstairs</td>\n",
       "      <td>Roseville</td>\n",
       "      <td>32.74202</td>\n",
       "      <td>-117.21870</td>\n",
       "      <td>75</td>\n",
       "    </tr>\n",
       "    <tr>\n",
       "      <th>3</th>\n",
       "      <td>39516</td>\n",
       "      <td>Art Studio Retreat/Rustic Cabin</td>\n",
       "      <td>North Hills</td>\n",
       "      <td>32.73188</td>\n",
       "      <td>-117.11918</td>\n",
       "      <td>74</td>\n",
       "    </tr>\n",
       "    <tr>\n",
       "      <th>4</th>\n",
       "      <td>54001</td>\n",
       "      <td>La Jolla 2 Bdr Cottage: 1 Qn; 2Twns, Blks 2 Ocn</td>\n",
       "      <td>La Jolla</td>\n",
       "      <td>32.81301</td>\n",
       "      <td>-117.26856</td>\n",
       "      <td>80</td>\n",
       "    </tr>\n",
       "  </tbody>\n",
       "</table>\n",
       "</div>"
      ],
      "text/plain": [
       "      id                                             name  neighbourhood  \\\n",
       "0   5570                    Ocean front condo on the sand    Mission Bay   \n",
       "1  29967                 Great home, 10 min walk to Beach  Pacific Beach   \n",
       "2  38245                       Point Loma: Den downstairs      Roseville   \n",
       "3  39516                  Art Studio Retreat/Rustic Cabin    North Hills   \n",
       "4  54001  La Jolla 2 Bdr Cottage: 1 Qn; 2Twns, Blks 2 Ocn       La Jolla   \n",
       "\n",
       "   latitude  longitude  price  \n",
       "0  32.78430 -117.25258   2050  \n",
       "1  32.80724 -117.25630    225  \n",
       "2  32.74202 -117.21870     75  \n",
       "3  32.73188 -117.11918     74  \n",
       "4  32.81301 -117.26856     80  "
      ]
     },
     "execution_count": 7,
     "metadata": {},
     "output_type": "execute_result"
    }
   ],
   "source": [
    "data.head()"
   ]
  },
  {
   "cell_type": "code",
   "execution_count": 9,
   "metadata": {},
   "outputs": [
    {
     "data": {
      "text/plain": [
       "318.8208642373428"
      ]
     },
     "execution_count": 9,
     "metadata": {},
     "output_type": "execute_result"
    }
   ],
   "source": [
    "data['price'].mean()"
   ]
  },
  {
   "cell_type": "code",
   "execution_count": 10,
   "metadata": {},
   "outputs": [
    {
     "data": {
      "text/plain": [
       "array(['Mission Bay', 'Pacific Beach', 'Roseville', 'North Hills',\n",
       "       'La Jolla', 'College Area', 'Old Town', 'Midtown',\n",
       "       'Rancho Penasquitos', 'Del Mar Heights', 'Grant Hill', 'Bay Park',\n",
       "       'Kensington', 'West University Heights', 'East Lake',\n",
       "       'Wooded Area', 'Mira Mesa', 'Bird Land', 'Ocean Beach',\n",
       "       'Carmel Valley', 'Talmadge', 'Moreno Mission', 'Loma Portal',\n",
       "       'University City', 'Torrey Pines', 'Mountain View', 'Linda Vista',\n",
       "       'East Village', 'Darnall', 'Scripps Ranch', 'South Park',\n",
       "       'Lake Murray', 'Little Italy', 'Balboa Park', 'Clairemont Mesa',\n",
       "       'Cortez Hill', 'Park West', 'Normal Heights', 'Midtown District',\n",
       "       'Marina', 'Grantville', 'Serra Mesa', 'Gaslamp Quarter', 'Encanto',\n",
       "       'Tijuana River Valley', 'Otay Ranch', 'North Clairemont',\n",
       "       'City Heights West', 'San Carlos', 'Sabre Springs', 'Columbia',\n",
       "       'Core', 'Webster', 'Bay Ho', 'El Cerritos', 'Rancho Bernadino',\n",
       "       'Gateway', 'Allied Gardens', 'Oak Park', 'Kearny Mesa', 'Memorial',\n",
       "       'Rolando', 'City Heights East', 'Bario Logan', 'Palm City',\n",
       "       'La Jolla Village', 'Mission Valley', 'Carmel Mountain',\n",
       "       'Del Cerro', 'Northwest', 'North City', 'Paradise Hills',\n",
       "       'Jomacha-Lomita', 'Mount Hope', 'Rolling Hills Ranch',\n",
       "       'Tierrasanta', 'Lynwood Hills', 'Southwest', 'Eastlake Vistas',\n",
       "       'Amphitheater And Water Park', 'Sorrento Valley', 'Estlake Greens',\n",
       "       'Bay Terrace', 'Sky Line', 'Rancho Del Rey', 'San Ysidro',\n",
       "       'Horton Plaza', 'Southcrest', 'Paseo Ranchoero', 'Yosemite Dr',\n",
       "       'Nestor', 'Bonita Long Canyon', 'Sunbow', 'Alta Vista',\n",
       "       'Terra Nova', 'Egger Highlands', 'Eastlake Trails',\n",
       "       'Valencia Park', 'Eastlake Woods', 'Chollas View', 'Lincoln Park',\n",
       "       'Emerald Hills'], dtype=object)"
      ]
     },
     "execution_count": 10,
     "metadata": {},
     "output_type": "execute_result"
    }
   ],
   "source": [
    "data['neighbourhood'].unique()"
   ]
  },
  {
   "cell_type": "code",
   "execution_count": 16,
   "metadata": {},
   "outputs": [
    {
     "data": {
      "text/plain": [
       "Mission Bay                    1680\n",
       "Pacific Beach                  1052\n",
       "La Jolla                        847\n",
       "East Village                    745\n",
       "North Hills                     629\n",
       "                               ... \n",
       "Yosemite Dr                       4\n",
       "Terra Nova                        3\n",
       "Amphitheater And Water Park       3\n",
       "Horton Plaza                      2\n",
       "Eastlake Trails                   2\n",
       "Name: neighbourhood, Length: 102, dtype: int64"
      ]
     },
     "execution_count": 16,
     "metadata": {},
     "output_type": "execute_result"
    }
   ],
   "source": [
    "data['neighbourhood'].value_counts()"
   ]
  },
  {
   "cell_type": "code",
   "execution_count": 17,
   "metadata": {},
   "outputs": [
    {
     "data": {
      "text/plain": [
       "count    12404.000000\n",
       "mean       318.820864\n",
       "std       1142.999037\n",
       "min          0.000000\n",
       "25%         85.000000\n",
       "50%        140.000000\n",
       "75%        250.000000\n",
       "max      24999.000000\n",
       "Name: price, dtype: float64"
      ]
     },
     "execution_count": 17,
     "metadata": {},
     "output_type": "execute_result"
    }
   ],
   "source": [
    "data['price'].describe()"
   ]
  },
  {
   "cell_type": "code",
   "execution_count": 19,
   "metadata": {},
   "outputs": [],
   "source": [
    "#save csv file\n",
    "data.to_csv('listing_cleaned.csv')"
   ]
  },
  {
   "cell_type": "code",
   "execution_count": null,
   "metadata": {},
   "outputs": [],
   "source": []
  }
 ],
 "metadata": {
  "kernelspec": {
   "display_name": "Python 3",
   "language": "python",
   "name": "python3"
  },
  "language_info": {
   "codemirror_mode": {
    "name": "ipython",
    "version": 3
   },
   "file_extension": ".py",
   "mimetype": "text/x-python",
   "name": "python",
   "nbconvert_exporter": "python",
   "pygments_lexer": "ipython3",
   "version": "3.7.6"
  }
 },
 "nbformat": 4,
 "nbformat_minor": 4
}
